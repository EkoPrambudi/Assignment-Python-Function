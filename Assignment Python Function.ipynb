{
 "cells": [
  {
   "cell_type": "code",
   "execution_count": 30,
   "id": "5f2b6171",
   "metadata": {},
   "outputs": [
    {
     "name": "stdout",
     "output_type": "stream",
     "text": [
      "Input length of rectangle: 4\n",
      "Input width of rectangle: 5\n",
      "Area of rectangle with length 4 and width 5 : 20\n"
     ]
    }
   ],
   "source": [
    "length = int(input('Input length of rectangle: ' ))\n",
    "width = int(input('Input width of rectangle: ' ))\n",
    "def area (length,width):\n",
    "    print()\n",
    "area = (length*width)\n",
    "print('Area of rectangle with length', length, 'and width',width,':',area)"
   ]
  },
  {
   "cell_type": "code",
   "execution_count": 31,
   "id": "60501f42",
   "metadata": {},
   "outputs": [
    {
     "name": "stdout",
     "output_type": "stream",
     "text": [
      "Input length of triangle: 4\n",
      "Input width of triangle: 5\n",
      "Input height of triangle: 6\n",
      "Area of rectangle with length 4 width 5 is: 60.0\n"
     ]
    }
   ],
   "source": [
    "length = int(input('Input length of triangle: ' ))\n",
    "width = int(input('Input width of triangle: ' ))\n",
    "height = int(input('Input height of triangle: ' ))\n",
    "def area (length,width,height):\n",
    "    print()\n",
    "area = (length*width*height)/2\n",
    "print('Area of rectangle with length', length, 'width', width,'is:', area)"
   ]
  },
  {
   "cell_type": "code",
   "execution_count": 49,
   "id": "62913f0c",
   "metadata": {},
   "outputs": [
    {
     "name": "stdout",
     "output_type": "stream",
     "text": [
      "Input integer number: 7\n",
      "Is 7 a prime number? True\n"
     ]
    }
   ],
   "source": [
    "num = int(input('Input integer number: ' ))\n",
    "def cek_prima (num):\n",
    "    for i in range(2, num):\n",
    "        if num % i == 0:\n",
    "            return False\n",
    "        return True\n",
    "print('Is', num, 'a prime number?',cek_prima(num))"
   ]
  },
  {
   "cell_type": "code",
   "execution_count": 82,
   "id": "b04597b8",
   "metadata": {},
   "outputs": [
    {
     "name": "stdout",
     "output_type": "stream",
     "text": [
      "Input text: python programming muantep\n",
      "Counts of vowels in python programming muantep : 7\n"
     ]
    }
   ],
   "source": [
    "2 text = input('Input text: ')\n",
    "vowel = 0\n",
    "for i in text:\n",
    "    if(i=='a' or i=='i' or i=='u' or i=='e' or i=='o' or i=='A' or i=='I' or i=='U' or i=='E' or i=='O'):\n",
    "        vowel = vowel+1\n",
    "if vowel > 0 :\n",
    "    print('Counts of vowels in', text,':', vowel)\n",
    "else:\n",
    "    print('Huruf vokal tidak ditemukan')"
   ]
  },
  {
   "cell_type": "code",
   "execution_count": 2,
   "id": "7238e5d1",
   "metadata": {},
   "outputs": [
    {
     "name": "stdout",
     "output_type": "stream",
     "text": [
      "Input integer number: 5\n",
      "odd\n",
      "2\n",
      "odd\n",
      "4\n",
      "odd\n"
     ]
    }
   ],
   "source": [
    "num = int(input('Input integer number: ' ))\n",
    "    \n",
    "for i in range (1,num+1):\n",
    "    if i > 50:\n",
    "        break\n",
    "        print('Max.input in 50')\n",
    "    elif (i %2 == 0):\n",
    "        print(i)\n",
    "    elif (i %2 == 1):\n",
    "        print('odd')"
   ]
  },
  {
   "cell_type": "code",
   "execution_count": null,
   "id": "6eb0fd73",
   "metadata": {},
   "outputs": [],
   "source": []
  }
 ],
 "metadata": {
  "kernelspec": {
   "display_name": "Python 3 (ipykernel)",
   "language": "python",
   "name": "python3"
  },
  "language_info": {
   "codemirror_mode": {
    "name": "ipython",
    "version": 3
   },
   "file_extension": ".py",
   "mimetype": "text/x-python",
   "name": "python",
   "nbconvert_exporter": "python",
   "pygments_lexer": "ipython3",
   "version": "3.10.9"
  }
 },
 "nbformat": 4,
 "nbformat_minor": 5
}
